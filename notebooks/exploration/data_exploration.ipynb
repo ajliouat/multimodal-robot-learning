{
 "cells": [
  {
   "cell_type": "code",
   "execution_count": null,
   "metadata": {},
   "outputs": [],
   "source": [
    "# Data Exploration Notebook\n",
    "import os\n",
    "import cv2\n",
    "import matplotlib.pyplot as plt\n",
    "\n",
    "# Load sample images\n",
    "image_dir = \"data/datasets/simulation/images\"\n",
    "images = [cv2.imread(os.path.join(image_dir, f)) for f in os.listdir(image_dir)[:5]]\n",
    "\n",
    "# Display images\n",
    "for img in images:\n",
    "    plt.imshow(cv2.cvtColor(img, cv2.COLOR_BGR2RGB))\n",
    "    plt.show()"
   ]
  }
 ],
 "metadata": {
  "language_info": {
   "name": "python"
  }
 },
 "nbformat": 4,
 "nbformat_minor": 2
}
